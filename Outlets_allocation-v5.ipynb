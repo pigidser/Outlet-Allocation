{
 "cells": [
  {
   "cell_type": "markdown",
   "metadata": {},
   "source": [
    "# Outlet Allocation program"
   ]
  },
  {
   "cell_type": "markdown",
   "metadata": {},
   "source": [
    "The result at whole dataset:\n"
   ]
  },
  {
   "cell_type": "code",
   "execution_count": 1,
   "metadata": {},
   "outputs": [],
   "source": [
    "import pandas as pd\n",
    "pd.set_option('display.max_columns', 100)\n",
    "pd.set_option('display.max_rows', 1000)\n",
    "\n",
    "import numpy as np\n",
    "\n",
    "import matplotlib.pyplot as plt\n",
    "%matplotlib inline\n",
    "\n",
    "import seaborn as sns\n",
    "from time import time\n",
    "\n",
    "from sklearn.impute import SimpleImputer\n",
    "from sklearn.preprocessing import LabelEncoder\n",
    "from sklearn.model_selection import train_test_split, cross_val_score\n",
    "from sklearn.metrics import balanced_accuracy_score, accuracy_score\n",
    "from sklearn.metrics import classification_report, accuracy_score\n",
    "\n",
    "from sklearn.linear_model import LogisticRegression\n",
    "from sklearn.tree import DecisionTreeClassifier\n",
    "from sklearn.neighbors import KNeighborsClassifier\n",
    "from sklearn.ensemble import RandomForestClassifier\n",
    "from sklearn.model_selection import GridSearchCV\n",
    "\n",
    "from sklearn.preprocessing import OneHotEncoder\n",
    "from sklearn.preprocessing import OrdinalEncoder\n",
    "from sklearn.preprocessing import LabelEncoder\n",
    "from sklearn.preprocessing import MinMaxScaler\n",
    "from sklearn.feature_selection import mutual_info_classif\n",
    "from sklearn.pipeline import Pipeline\n",
    "from sklearn.impute import SimpleImputer\n",
    "from sklearn.compose import ColumnTransformer\n",
    "\n",
    "import missingno as msno"
   ]
  },
  {
   "cell_type": "markdown",
   "metadata": {},
   "source": [
    "# Create sample files"
   ]
  },
  {
   "cell_type": "code",
   "execution_count": 2,
   "metadata": {},
   "outputs": [],
   "source": [
    "outlet_file = r'data_input3\\OutletBook_v1_7.xlsx'\n",
    "coordinate_file = r'data_input3\\Coordinates active outlets.xlsx'"
   ]
  },
  {
   "cell_type": "code",
   "execution_count": null,
   "metadata": {},
   "outputs": [],
   "source": [
    "# The defense from Run All action\n",
    "# The function below is very time-consuming\n",
    "assert False"
   ]
  },
  {
   "cell_type": "code",
   "execution_count": 41,
   "metadata": {},
   "outputs": [
    {
     "name": "stdout",
     "output_type": "stream",
     "text": [
      "Number of outlets: (45767, 73)\n"
     ]
    }
   ],
   "source": [
    "def create_sample_files():\n",
    "    \"\"\" Creates sample input files for developing purposes \"\"\"\n",
    "    # Remove dupes and non-active outlets, then save a fraction of data in 10%\n",
    "    df_outlet = pd.read_excel(outlet_file, skiprows=0)\n",
    "    # Exclude inactive outlets\n",
    "    df_outlet_sample = df_outlet[df_outlet['Активность точки']==2].sample(frac=0.1, random_state=42)\n",
    "    print(f\"Number of outlets: {df_outlet_sample.shape}\")\n",
    "    with pd.ExcelWriter(r'data_input3\\OutletBook_sample.xlsx') as writer: # pylint: disable=abstract-class-instantiated\n",
    "        df_outlet_sample.to_excel(writer, sheet_name='Sheet1', index=False)\n",
    "    # Leave only used outlets in coord file\n",
    "    df_coor = pd.read_excel(coordinate_file)\n",
    "    df_coor_sample = df_coor[df_coor['OL_ID'].isin(df_outlet_sample['OL_id'])]\n",
    "    with pd.ExcelWriter(r'data_input3\\Coordinates_sample.xlsx') as writer: # pylint: disable=abstract-class-instantiated\n",
    "        df_coor_sample.to_excel(writer, sheet_name='Sheet1', index=False)\n",
    "\n",
    "create_sample_files()"
   ]
  },
  {
   "cell_type": "markdown",
   "metadata": {},
   "source": [
    "# Loading and merge data"
   ]
  },
  {
   "cell_type": "code",
   "execution_count": 3,
   "metadata": {},
   "outputs": [],
   "source": [
    "# outlet_file = r'data_input3\\OutletBook_sample.xlsx'\n",
    "# coordinate_file = r'data_input3\\Coordinates_sample.xlsx'"
   ]
  },
  {
   "cell_type": "code",
   "execution_count": 4,
   "metadata": {},
   "outputs": [
    {
     "name": "stdout",
     "output_type": "stream",
     "text": [
      "The amount of trade outlet with GPS: 296051\n"
     ]
    }
   ],
   "source": [
    "# Read coordinates\n",
    "coordinates = pd.read_excel(coordinate_file)\n",
    "\n",
    "# Retain trade outlets with coordinates in Russia\n",
    "coordinates = coordinates[(coordinates['Latitude']>40)&(coordinates['Latitude']<82)]\n",
    "coordinates = coordinates[((coordinates['Longitude']>=10)&(coordinates['Longitude']<180)) | \\\n",
    "    ((coordinates['Longitude']>=-180)&(coordinates['Longitude']<-160))]\n",
    "print(f'The amount of trade outlet with GPS: {coordinates.shape[0]}')"
   ]
  },
  {
   "cell_type": "code",
   "execution_count": 5,
   "metadata": {},
   "outputs": [
    {
     "name": "stdout",
     "output_type": "stream",
     "text": [
      "Total outlets: 319962\n"
     ]
    }
   ],
   "source": [
    "# Read outlets\n",
    "outlets = pd.read_excel(outlet_file)\n",
    "# Exclude inactive outlets\n",
    "outlets = outlets[outlets['Активность точки']==2]\n",
    "print(f\"Total outlets: {outlets.shape[0]}\")"
   ]
  },
  {
   "cell_type": "code",
   "execution_count": 6,
   "metadata": {},
   "outputs": [],
   "source": [
    "# Merging dataframes by outlet code\n",
    "df = outlets.merge(coordinates, how='left', left_on='OL_id', right_on='OL_ID')\n",
    "\n",
    "# Getting some features, rename, and custom sort\n",
    "df = df[['OL_id','OLName','OLDeliveryAddress','#TC',\n",
    "         '(АК) СубЪект РФ','(АК) Район\\Город','(АК) Населенный пункт','(АК) Улица','(АК) Номер дома',\n",
    "         'FFDH (Регион)','FFDL (Area)','Ответственный сотрудник','Код сотрудника',\n",
    "         'Network_id','Network_Name','NetworkTypeName', 'Тип ТТ (MWC)',\n",
    "         'Latitude','Longitude']]\n",
    "df.columns = ['SWE_Store_Key','Outlet_Name','Delivery_Address','Sync_Id',\n",
    "              'Kladr_level_1','Kladr_level_2','Kladr_level_3','Kladr_level_4','Kladr_level_5',\n",
    "              'FFDH_Region','FFDL_Area','Responsible','Responsible_Id',\n",
    "              'Chain_Id','Chain_Name','Chain_Type','Outlet_Type',\n",
    "              'Latitude','Longitude']\n",
    "df = df[['SWE_Store_Key','Outlet_Name','Delivery_Address','Sync_Id',\n",
    "         'Kladr_level_1','Kladr_level_2','Kladr_level_3','Kladr_level_4','Kladr_level_5',\n",
    "         'Chain_Id','Chain_Name','Chain_Type','Outlet_Type','Latitude','Longitude',\n",
    "         'Responsible_Id','Responsible','FFDH_Region','FFDL_Area']]"
   ]
  },
  {
   "cell_type": "markdown",
   "metadata": {},
   "source": [
    "# Restoring coordinates"
   ]
  },
  {
   "cell_type": "code",
   "execution_count": 7,
   "metadata": {},
   "outputs": [],
   "source": [
    "# There are NaN Kladr fields. Using Sync_Id as th high level\n",
    "df['Sync_Id'] = df['Sync_Id'].astype(str)\n",
    "df['Kladr_level_1'].fillna('Нет данных', inplace=True)\n",
    "df['Kladr_level_2'].fillna('Нет данных', inplace=True)\n",
    "df['Kladr_level_3'].fillna('Нет данных', inplace=True)\n",
    "df['Kladr_level_4'].fillna('Нет данных', inplace=True)\n",
    "df['Kladr_level_5'].fillna('Нет данных', inplace=True)"
   ]
  },
  {
   "cell_type": "code",
   "execution_count": 8,
   "metadata": {},
   "outputs": [
    {
     "name": "stdout",
     "output_type": "stream",
     "text": [
      "Cannot get average coordinate for the locality Эвенкийский, Байкитский, Байкит, ул Титова\n",
      "Cannot get average coordinate for the locality Эвенкийский, Байкитский, Байкит, ул Пролетарского\n",
      "Cannot get average coordinate for the locality Эвенкийский, Байкитский, Байкит, ул Авиаторов\n",
      "Cannot get average coordinate for the locality Эвенкийский, Байкитский, Байкит, ул Школьная\n",
      "Cannot get average coordinate for the locality Эвенкийский, Байкитский, Байкит, ул Пролетарского\n",
      "Latitude restoring finished in 8.063 sec. (not found 5)\n",
      "Cannot get average coordinate for the locality Эвенкийский, Байкитский, Байкит, ул Титова\n",
      "Cannot get average coordinate for the locality Эвенкийский, Байкитский, Байкит, ул Пролетарского\n",
      "Cannot get average coordinate for the locality Эвенкийский, Байкитский, Байкит, ул Авиаторов\n",
      "Cannot get average coordinate for the locality Эвенкийский, Байкитский, Байкит, ул Школьная\n",
      "Cannot get average coordinate for the locality Эвенкийский, Байкитский, Байкит, ул Пролетарского\n",
      "Longitude restoring finished in 7.814 sec. (not found 5)\n"
     ]
    }
   ],
   "source": [
    "def get_avg_coordinate_by_kladr(row, kladr_grouped):\n",
    "    \"\"\"\n",
    "    Return average coordinate by Kladr levels\n",
    "\n",
    "    Parameters:\n",
    "    -----------\n",
    "    row (Series): ['Kladr_level_1','Kladr_level_2','Kladr_level_3','Kladr_level_4'] locality for getting coordinate\n",
    "    kladr_grouped (Series with Multiindex (['Kladr_level_1','Kladr_level_2','Kladr_level_3','Kladr_level_4']):\n",
    "        contains coordinate for 4-level locality\n",
    "\n",
    "    Returns:\n",
    "    --------\n",
    "    float: coordinate\n",
    "\n",
    "    \"\"\"\n",
    "    try:\n",
    "        return kladr_grouped[row['Kladr_level_1'],row['Kladr_level_2'],row['Kladr_level_3'],row['Kladr_level_4']]\n",
    "    except KeyError:\n",
    "        try:\n",
    "            return kladr_grouped[row['Kladr_level_1'],row['Kladr_level_2'],row['Kladr_level_3']].mean()\n",
    "        except KeyError:\n",
    "            try:\n",
    "                return kladr_grouped[row['Kladr_level_1'],row['Kladr_level_2']].mean()\n",
    "            except KeyError:\n",
    "                try:\n",
    "                    return kladr_grouped[row['Kladr_level_1']].mean()\n",
    "                except KeyError:\n",
    "                    text = f\"Cannot get average coordinate for the locality {row['Kladr_level_1']}, \" \\\n",
    "                        f\"{row['Kladr_level_2']}, {row['Kladr_level_3']}, {row['Kladr_level_4']}\"\n",
    "                    print(text)\n",
    "                    return 0\n",
    "                \n",
    "def get_avg_coordinate_by_sync(row, sync_grouped):\n",
    "    \"\"\"\n",
    "    Return average coordinate by sync id\n",
    "\n",
    "    Parameters:\n",
    "    -----------\n",
    "\n",
    "    Returns:\n",
    "    --------\n",
    "    float: coordinate\n",
    "\n",
    "    \"\"\"\n",
    "    try:\n",
    "        return sync_grouped[row['Sync_Id']]\n",
    "    except KeyError:\n",
    "        text = f\"Cannot get average coordinate for point of sync id {row['Sync_Id']}\"\n",
    "        print(text)\n",
    "        return 0\n",
    "                \n",
    "def restore_coordinate_part(part_name):\n",
    "    try:\n",
    "        t0 = time()\n",
    "        # Series with MultiIndex and seeking by Kladr\n",
    "        kladr_grouped = df[(df['isCoord']==1)&(df['isKladr']==1)]. \\\n",
    "            groupby(['Kladr_level_1','Kladr_level_2','Kladr_level_3','Kladr_level_4'])[part_name].mean()\n",
    "        df.loc[(df['isCoord']==0)&(df['isKladr']==1),part_name] = \\\n",
    "            df.loc[(df['isCoord']==0)&(df['isKladr']==1)] \\\n",
    "            [['SWE_Store_Key','Kladr_level_1','Kladr_level_2','Kladr_level_3','Kladr_level_4']].apply( \\\n",
    "            get_avg_coordinate_by_kladr, args=(kladr_grouped,), axis=1)\n",
    "        # Series with index and seeking by Sync_Id\n",
    "        sync_grouped = df[df['isCoord']==1]. \\\n",
    "            groupby(['Sync_Id'])[part_name].mean()\n",
    "        df.loc[(df['isCoord']==0)&(df['isKladr']==0),part_name] = \\\n",
    "            df.loc[(df['isCoord']==0)&(df['isKladr']==0)] \\\n",
    "            [['SWE_Store_Key','Sync_Id']].apply( \\\n",
    "            get_avg_coordinate_by_sync, args=(sync_grouped,), axis=1)\n",
    "    except Exception as err:\n",
    "        print(f\"restore_coordinate_part: {err}\")\n",
    "    finally:\n",
    "        print(f\"{part_name} restoring finished in {time() - t0:.3f} sec. \" \\\n",
    "            f\"(not found {df[df[part_name]==0].shape[0]})\")\n",
    "\n",
    "def restore_coordinates():\n",
    "    \"\"\" Find coordinates for an outlet by its neighbors \"\"\"\n",
    "    df['Latitude'].replace(0, np.NaN, inplace=True)\n",
    "    df['Longitude'].replace(0, np.NaN, inplace=True)\n",
    "    df['isCoord'] = ~( (df['Latitude'].isna()) | (df['Longitude'].isna()) )\n",
    "    df['isKladr'] = ~( df['Kladr_level_1']=='Нет данных')\n",
    "    # Restore Latitude\n",
    "    restore_coordinate_part('Latitude')\n",
    "    # Restore Longitude\n",
    "    restore_coordinate_part('Longitude')\n",
    "#     # remove unnecessary fields\n",
    "#     df.drop(['Kladr_level_2','Kladr_level_3','Kladr_level_4','Kladr_level_5'],\n",
    "#                  axis=1, inplace=True)\n",
    "\n",
    "restore_coordinates()"
   ]
  },
  {
   "cell_type": "code",
   "execution_count": 9,
   "metadata": {},
   "outputs": [
    {
     "data": {
      "text/html": [
       "<div>\n",
       "<style scoped>\n",
       "    .dataframe tbody tr th:only-of-type {\n",
       "        vertical-align: middle;\n",
       "    }\n",
       "\n",
       "    .dataframe tbody tr th {\n",
       "        vertical-align: top;\n",
       "    }\n",
       "\n",
       "    .dataframe thead th {\n",
       "        text-align: right;\n",
       "    }\n",
       "</style>\n",
       "<table border=\"1\" class=\"dataframe\">\n",
       "  <thead>\n",
       "    <tr style=\"text-align: right;\">\n",
       "      <th></th>\n",
       "      <th>column</th>\n",
       "      <th>values</th>\n",
       "      <th>number_of_unique</th>\n",
       "      <th>number_of_nan</th>\n",
       "      <th>%_nan</th>\n",
       "    </tr>\n",
       "  </thead>\n",
       "  <tbody>\n",
       "    <tr>\n",
       "      <th>0</th>\n",
       "      <td>SWE_Store_Key</td>\n",
       "      <td>[100690000005804, 100050000004045, 10005000000...</td>\n",
       "      <td>319927</td>\n",
       "      <td>0</td>\n",
       "      <td>0.0</td>\n",
       "    </tr>\n",
       "    <tr>\n",
       "      <th>0</th>\n",
       "      <td>Outlet_Name</td>\n",
       "      <td>[Псковпечать, ООО \"Союз Святого Иоанна Воина\" ...</td>\n",
       "      <td>240533</td>\n",
       "      <td>12</td>\n",
       "      <td>0.0</td>\n",
       "    </tr>\n",
       "    <tr>\n",
       "      <th>0</th>\n",
       "      <td>Delivery_Address</td>\n",
       "      <td>[Псковская обл, Палкинский р-н, Палкино рп, ул...</td>\n",
       "      <td>289588</td>\n",
       "      <td>2</td>\n",
       "      <td>0.0</td>\n",
       "    </tr>\n",
       "    <tr>\n",
       "      <th>0</th>\n",
       "      <td>Sync_Id</td>\n",
       "      <td>[69, 5, 359, 88, 147, 312, 148, 218, 348, 209,...</td>\n",
       "      <td>318</td>\n",
       "      <td>0</td>\n",
       "      <td>0.0</td>\n",
       "    </tr>\n",
       "    <tr>\n",
       "      <th>0</th>\n",
       "      <td>Kladr_level_1</td>\n",
       "      <td>[Псковская, Ленинградская, Санкт-Петербург, Ма...</td>\n",
       "      <td>94</td>\n",
       "      <td>0</td>\n",
       "      <td>0.0</td>\n",
       "    </tr>\n",
       "    <tr>\n",
       "      <th>0</th>\n",
       "      <td>Kladr_level_2</td>\n",
       "      <td>[Палкинский, Ломоносовский, Большелуцкая, Пско...</td>\n",
       "      <td>3031</td>\n",
       "      <td>0</td>\n",
       "      <td>0.0</td>\n",
       "    </tr>\n",
       "    <tr>\n",
       "      <th>0</th>\n",
       "      <td>Kladr_level_3</td>\n",
       "      <td>[Палкино, Малое Карлино, Кингисеппский, Псков,...</td>\n",
       "      <td>18671</td>\n",
       "      <td>0</td>\n",
       "      <td>0.0</td>\n",
       "    </tr>\n",
       "    <tr>\n",
       "      <th>0</th>\n",
       "      <td>Kladr_level_4</td>\n",
       "      <td>[ул Островская, ш Красносельское, тер Торговый...</td>\n",
       "      <td>28194</td>\n",
       "      <td>0</td>\n",
       "      <td>0.0</td>\n",
       "    </tr>\n",
       "    <tr>\n",
       "      <th>0</th>\n",
       "      <td>Kladr_level_5</td>\n",
       "      <td>[1, 19, 6, Нет данных, 8, 11, 9, 12, 18, 10, 7...</td>\n",
       "      <td>9704</td>\n",
       "      <td>0</td>\n",
       "      <td>0.0</td>\n",
       "    </tr>\n",
       "    <tr>\n",
       "      <th>0</th>\n",
       "      <td>Chain_Id</td>\n",
       "      <td>[nan, 9998.0, 2668.0, 2667.0, 50329.0, 16978.0...</td>\n",
       "      <td>3219</td>\n",
       "      <td>193479</td>\n",
       "      <td>60.5</td>\n",
       "    </tr>\n",
       "    <tr>\n",
       "      <th>0</th>\n",
       "      <td>Chain_Name</td>\n",
       "      <td>[nan, Верный, Дикси, Пятерочка, Улыбка Радуги,...</td>\n",
       "      <td>3099</td>\n",
       "      <td>193479</td>\n",
       "      <td>60.5</td>\n",
       "    </tr>\n",
       "    <tr>\n",
       "      <th>0</th>\n",
       "      <td>Chain_Type</td>\n",
       "      <td>[nan, Региональная, Национальная, Локальная, И...</td>\n",
       "      <td>5</td>\n",
       "      <td>193479</td>\n",
       "      <td>60.5</td>\n",
       "    </tr>\n",
       "    <tr>\n",
       "      <th>0</th>\n",
       "      <td>Outlet_Type</td>\n",
       "      <td>[2018 Киоск, 2018 Минимаркет 100-300, 2018 Суп...</td>\n",
       "      <td>27</td>\n",
       "      <td>2860</td>\n",
       "      <td>0.9</td>\n",
       "    </tr>\n",
       "    <tr>\n",
       "      <th>0</th>\n",
       "      <td>Latitude</td>\n",
       "      <td>[57.8203915, 59.72362070019953, 59.40063, 57.8...</td>\n",
       "      <td>261825</td>\n",
       "      <td>0</td>\n",
       "      <td>0.0</td>\n",
       "    </tr>\n",
       "    <tr>\n",
       "      <th>0</th>\n",
       "      <td>Longitude</td>\n",
       "      <td>[28.3137143, 30.268728733062744, 28.567845, 28...</td>\n",
       "      <td>264314</td>\n",
       "      <td>0</td>\n",
       "      <td>0.0</td>\n",
       "    </tr>\n",
       "    <tr>\n",
       "      <th>0</th>\n",
       "      <td>Responsible_Id</td>\n",
       "      <td>[1000040571.0, 1000040548.0, 1000040638.0, 100...</td>\n",
       "      <td>234</td>\n",
       "      <td>21333</td>\n",
       "      <td>6.7</td>\n",
       "    </tr>\n",
       "    <tr>\n",
       "      <th>0</th>\n",
       "      <td>Responsible</td>\n",
       "      <td>[MWC TDE Pskov (Serov Andrey ), MWC MTDE SPb 1...</td>\n",
       "      <td>234</td>\n",
       "      <td>21333</td>\n",
       "      <td>6.7</td>\n",
       "    </tr>\n",
       "    <tr>\n",
       "      <th>0</th>\n",
       "      <td>FFDH_Region</td>\n",
       "      <td>[FFDH  North, FFDH  East, FFDH  Volga, FFDH  S...</td>\n",
       "      <td>9</td>\n",
       "      <td>21333</td>\n",
       "      <td>6.7</td>\n",
       "    </tr>\n",
       "    <tr>\n",
       "      <th>0</th>\n",
       "      <td>FFDL_Area</td>\n",
       "      <td>[MWC FFDL SPb 3, MWC FFDL SPb 2, MWC FFDL Vlad...</td>\n",
       "      <td>36</td>\n",
       "      <td>21333</td>\n",
       "      <td>6.7</td>\n",
       "    </tr>\n",
       "    <tr>\n",
       "      <th>0</th>\n",
       "      <td>isCoord</td>\n",
       "      <td>[True, False]</td>\n",
       "      <td>2</td>\n",
       "      <td>0</td>\n",
       "      <td>0.0</td>\n",
       "    </tr>\n",
       "    <tr>\n",
       "      <th>0</th>\n",
       "      <td>isKladr</td>\n",
       "      <td>[True]</td>\n",
       "      <td>1</td>\n",
       "      <td>0</td>\n",
       "      <td>0.0</td>\n",
       "    </tr>\n",
       "  </tbody>\n",
       "</table>\n",
       "</div>"
      ],
      "text/plain": [
       "             column                                             values  \\\n",
       "0     SWE_Store_Key  [100690000005804, 100050000004045, 10005000000...   \n",
       "0       Outlet_Name  [Псковпечать, ООО \"Союз Святого Иоанна Воина\" ...   \n",
       "0  Delivery_Address  [Псковская обл, Палкинский р-н, Палкино рп, ул...   \n",
       "0           Sync_Id  [69, 5, 359, 88, 147, 312, 148, 218, 348, 209,...   \n",
       "0     Kladr_level_1  [Псковская, Ленинградская, Санкт-Петербург, Ма...   \n",
       "0     Kladr_level_2  [Палкинский, Ломоносовский, Большелуцкая, Пско...   \n",
       "0     Kladr_level_3  [Палкино, Малое Карлино, Кингисеппский, Псков,...   \n",
       "0     Kladr_level_4  [ул Островская, ш Красносельское, тер Торговый...   \n",
       "0     Kladr_level_5  [1, 19, 6, Нет данных, 8, 11, 9, 12, 18, 10, 7...   \n",
       "0          Chain_Id  [nan, 9998.0, 2668.0, 2667.0, 50329.0, 16978.0...   \n",
       "0        Chain_Name  [nan, Верный, Дикси, Пятерочка, Улыбка Радуги,...   \n",
       "0        Chain_Type  [nan, Региональная, Национальная, Локальная, И...   \n",
       "0       Outlet_Type  [2018 Киоск, 2018 Минимаркет 100-300, 2018 Суп...   \n",
       "0          Latitude  [57.8203915, 59.72362070019953, 59.40063, 57.8...   \n",
       "0         Longitude  [28.3137143, 30.268728733062744, 28.567845, 28...   \n",
       "0    Responsible_Id  [1000040571.0, 1000040548.0, 1000040638.0, 100...   \n",
       "0       Responsible  [MWC TDE Pskov (Serov Andrey ), MWC MTDE SPb 1...   \n",
       "0       FFDH_Region  [FFDH  North, FFDH  East, FFDH  Volga, FFDH  S...   \n",
       "0         FFDL_Area  [MWC FFDL SPb 3, MWC FFDL SPb 2, MWC FFDL Vlad...   \n",
       "0           isCoord                                      [True, False]   \n",
       "0           isKladr                                             [True]   \n",
       "\n",
       "  number_of_unique number_of_nan  %_nan  \n",
       "0           319927             0    0.0  \n",
       "0           240533            12    0.0  \n",
       "0           289588             2    0.0  \n",
       "0              318             0    0.0  \n",
       "0               94             0    0.0  \n",
       "0             3031             0    0.0  \n",
       "0            18671             0    0.0  \n",
       "0            28194             0    0.0  \n",
       "0             9704             0    0.0  \n",
       "0             3219        193479   60.5  \n",
       "0             3099        193479   60.5  \n",
       "0                5        193479   60.5  \n",
       "0               27          2860    0.9  \n",
       "0           261825             0    0.0  \n",
       "0           264314             0    0.0  \n",
       "0              234         21333    6.7  \n",
       "0              234         21333    6.7  \n",
       "0                9         21333    6.7  \n",
       "0               36         21333    6.7  \n",
       "0                2             0    0.0  \n",
       "0                1             0    0.0  "
      ]
     },
     "execution_count": 9,
     "metadata": {},
     "output_type": "execute_result"
    }
   ],
   "source": [
    "#сводный анализ по данным\n",
    "df_stats = pd.DataFrame(columns = ['column', 'values', 'number_of_unique', 'number_of_nan', '%_nan'])\n",
    "tmp = pd.DataFrame()\n",
    "\n",
    "for c in df.columns:\n",
    "    tmp['column'] = [c]\n",
    "    tmp['values'] = [df[c].unique()]\n",
    "    tmp['number_of_unique'] = len(list(df[c].unique()))\n",
    "    tmp['number_of_nan'] = df[c].isnull().sum()\n",
    "    tmp['%_nan'] = round(df[c].isnull().sum() / df.shape[0] * 100, 1)\n",
    "    df_stats = df_stats.append(tmp)\n",
    "    \n",
    "df_stats"
   ]
  },
  {
   "cell_type": "code",
   "execution_count": 10,
   "metadata": {},
   "outputs": [],
   "source": [
    "# Replace NaN values\n",
    "df['Outlet_Name'].fillna('Без названия', inplace=True)\n",
    "df['Chain_Id'].fillna(0, inplace=True)\n",
    "df['Chain_Name'].fillna('Без названия', inplace=True)\n",
    "df['Chain_Type'].fillna('Без сети', inplace=True)\n",
    "df['Outlet_Type'].fillna('Без типа', inplace=True)"
   ]
  },
  {
   "cell_type": "code",
   "execution_count": 11,
   "metadata": {},
   "outputs": [
    {
     "data": {
      "text/plain": [
       "<AxesSubplot:>"
      ]
     },
     "execution_count": 11,
     "metadata": {},
     "output_type": "execute_result"
    },
    {
     "data": {
      "image/png": "[encoded data removed]",
      "text/plain": [
       "<Figure size 1800x720 with 2 Axes>"
      ]
     },
     "metadata": {
      "needs_background": "light"
     },
     "output_type": "display_data"
    }
   ],
   "source": [
    "msno.matrix(df)"
   ]
  },
  {
   "cell_type": "code",
   "execution_count": 12,
   "metadata": {},
   "outputs": [
    {
     "data": {
      "image/png": "[encoded data removed]",
      "text/plain": [
       "<Figure size 1080x432 with 2 Axes>"
      ]
     },
     "metadata": {
      "needs_background": "light"
     },
     "output_type": "display_data"
    }
   ],
   "source": [
    "# Нарисовать графики типа Box & Whiskers плюс violinplot с визулальным распределением значений\n",
    "fig, axes = plt.subplots(1,2, figsize=(15,6))\n",
    "axes[0].violinplot(df['Latitude'].values)\n",
    "axes[0].boxplot(df['Latitude'].values, whis=(0,1))\n",
    "axes[0].set_title('Широта')\n",
    "axes[1].violinplot(df[df['Longitude']>0]['Longitude'].values, vert=False)\n",
    "axes[1].boxplot(df[df['Longitude']>0]['Longitude'].values, vert=False, whis=(0,1))\n",
    "axes[1].set_title('Долгота')\n",
    "plt.show()"
   ]
  },
  {
   "cell_type": "code",
   "execution_count": 13,
   "metadata": {},
   "outputs": [],
   "source": [
    "df.loc[~df['Responsible_Id'].isna(),'Responsible_Id'] = \\\n",
    "    df.loc[~df['Responsible_Id'].isna()]['Responsible_Id'].astype('int64')"
   ]
  },
  {
   "cell_type": "code",
   "execution_count": 14,
   "metadata": {},
   "outputs": [
    {
     "data": {
      "image/png": "[encoded data removed]",
      "text/plain": [
       "<Figure size 720x360 with 1 Axes>"
      ]
     },
     "metadata": {
      "needs_background": "light"
     },
     "output_type": "display_data"
    }
   ],
   "source": [
    "target = 'Responsible_Id'\n",
    "# Посчитаем количество точек по классам\n",
    "class_counts = df[~df[target].isna()].groupby(target).size().to_frame()\n",
    "class_counts.reset_index(inplace=True)\n",
    "class_counts.columns = [target,'Counts']\n",
    "\n",
    "fig = plt.figure(figsize=(10,5))\n",
    "axes = fig.add_axes([0, 0, 1, 1])\n",
    "bins = 50\n",
    "axes.hist(x = class_counts['Counts'].values,\n",
    "        bins = bins,\n",
    "        color ='green',\n",
    "        alpha = 0.7)\n",
    "axes.set_title(f'Количество ответственных по количеству точек на территории (гистограмма распределения, корзина: {bins})')\n",
    "plt.show()"
   ]
  },
  {
   "cell_type": "code",
   "execution_count": 15,
   "metadata": {},
   "outputs": [
    {
     "data": {
      "image/png": "[encoded data removed]",
      "text/plain": [
       "<Figure size 720x360 with 1 Axes>"
      ]
     },
     "metadata": {
      "needs_background": "light"
     },
     "output_type": "display_data"
    }
   ],
   "source": [
    "fig = plt.figure(figsize=(10,5))\n",
    "axes = fig.add_axes([0, 0, 1, 1])\n",
    "axes.set_ylim(0, 100)\n",
    "threshold = 20\n",
    "df_aux = class_counts[class_counts['Counts']<threshold].sort_values('Counts', ascending=True)\n",
    "rects=axes.bar(x = df_aux[target].values.astype('str'),\n",
    "           height = df_aux['Counts'].values, \n",
    "           width = 0.4,\n",
    "           align = 'center',\n",
    "           alpha = 0.7)\n",
    "for tick in axes.get_xticklabels():\n",
    "    tick.set_rotation(90)\n",
    "for rect in rects:\n",
    "    h = rect.get_height()\n",
    "    axes.annotate('%.0f' % (h),\n",
    "                xy=(rect.get_x() + rect.get_width() / 2, h),\n",
    "                xytext=(0, 3),  # 3 points vertical offset\n",
    "                textcoords=\"offset points\",\n",
    "                ha='center', va='bottom')\n",
    "axes.set_title(f'Ответственные с количеством точек меньшим {threshold}')\n",
    "plt.show()"
   ]
  },
  {
   "cell_type": "markdown",
   "metadata": {},
   "source": [
    "# Enconding"
   ]
  },
  {
   "cell_type": "code",
   "execution_count": 16,
   "metadata": {},
   "outputs": [],
   "source": [
    "def X_transform(df):\n",
    "    # Transform of features\n",
    "    X = df[features]\n",
    "    X_cat = ordinal_encoder_x.transform(X[cat_features])\n",
    "    # Not transform\n",
    "    X_num = X[num_features]\n",
    "    # Объединить категорийные и числовые\n",
    "    X_enc = np.hstack([X_cat, X_num])\n",
    "    return X_enc"
   ]
  },
  {
   "cell_type": "code",
   "execution_count": 17,
   "metadata": {},
   "outputs": [],
   "source": [
    "X_y = df.copy()\n",
    "X_y.set_index('SWE_Store_Key',inplace=True)\n",
    "X_y.drop(['isCoord'],axis=1,inplace=True)\n",
    "X_y.drop(['isKladr'],axis=1,inplace=True)\n",
    "X_y.drop(['Chain_Id'],axis=1,inplace=True)\n",
    "X_y.drop(['Outlet_Name'],axis=1,inplace=True)\n",
    "X_y.drop(['Delivery_Address'],axis=1,inplace=True)\n",
    "X_y.drop(['Responsible'],axis=1,inplace=True)\n",
    "X_y.drop(['FFDH_Region'],axis=1,inplace=True)\n",
    "X_y.drop(['FFDL_Area'],axis=1,inplace=True)\n",
    "X_y.drop(['Sync_Id'],axis=1,inplace=True)\n",
    "X_y.drop(['Kladr_level_5'],axis=1,inplace=True)"
   ]
  },
  {
   "cell_type": "code",
   "execution_count": 18,
   "metadata": {},
   "outputs": [],
   "source": [
    "features = X_y.iloc[:,:-1].columns\n",
    "target = ''.join(X_y.iloc[:,-1:].columns)"
   ]
  },
  {
   "cell_type": "code",
   "execution_count": 19,
   "metadata": {},
   "outputs": [
    {
     "data": {
      "text/plain": [
       "LabelEncoder()"
      ]
     },
     "execution_count": 19,
     "metadata": {},
     "output_type": "execute_result"
    }
   ],
   "source": [
    "ordinal_encoder_x = OrdinalEncoder()\n",
    "label_encoder_y = LabelEncoder()\n",
    "\n",
    "# Training encoders on full dataset (X & y separately)\n",
    "X = X_y[features]\n",
    "cat_features = X.select_dtypes(include=['object']).columns  # Categorical\n",
    "num_features = X.select_dtypes(exclude=['object']).columns  # Numeric\n",
    "ordinal_encoder_x.fit(X[cat_features])\n",
    "y = X_y[~X_y['Responsible_Id'].isna()][target]\n",
    "label_encoder_y.fit(y)"
   ]
  },
  {
   "cell_type": "code",
   "execution_count": 20,
   "metadata": {},
   "outputs": [
    {
     "name": "stdout",
     "output_type": "stream",
     "text": [
      "(298629, 10) (21333, 10)\n"
     ]
    }
   ],
   "source": [
    "# Training and prediction datasets\n",
    "training = X_y[~X_y[target].isna()]\n",
    "preds = X_y[X_y[target].isna()]\n",
    "print(training.shape, preds.shape)"
   ]
  },
  {
   "cell_type": "code",
   "execution_count": 21,
   "metadata": {},
   "outputs": [],
   "source": [
    "def get_classes_to_exclude(df, threshold=2):\n",
    "    \"\"\" Return a list of classes with samples less than threshold \"\"\"\n",
    "    if threshold < 2:\n",
    "        threshold = 2\n",
    "    class_counts = df[~df[target].isna()].groupby(target).size().to_frame()\n",
    "    class_counts.reset_index(inplace=True)\n",
    "    class_counts.columns = [target,'Counts']\n",
    "\n",
    "    return [str(item) for item in list(class_counts[target][class_counts['Counts']<threshold].values)]\n",
    "\n",
    "classes_to_exclude = get_classes_to_exclude(X_y, 2)"
   ]
  },
  {
   "cell_type": "code",
   "execution_count": 22,
   "metadata": {},
   "outputs": [],
   "source": [
    "# Remove rows to remove from training due to small class size\n",
    "training = training[~training[target].isin(classes_to_exclude)]\n",
    "    \n",
    "# Training-Validation split\n",
    "X_train, X_valid, y_train, y_valid = \\\n",
    "    train_test_split(training[features], training[target],\n",
    "        test_size=0.3, random_state=42, stratify=training[target])\n",
    "\n",
    "X_training_enc = X_transform(training)\n",
    "X_preds_enc = X_transform(preds)\n",
    "X_train_enc = X_transform(X_train)\n",
    "X_valid_enc = X_transform(X_valid)\n",
    "\n",
    "y_training = training[target]\n",
    "y_training_enc = label_encoder_y.transform(y.values.ravel())\n",
    "y_train_enc = label_encoder_y.transform(y_train.values.ravel())\n",
    "y_valid_enc = label_encoder_y.transform(y_valid.values.ravel())"
   ]
  },
  {
   "cell_type": "code",
   "execution_count": 23,
   "metadata": {},
   "outputs": [],
   "source": [
    "clf = RandomForestClassifier(n_estimators=100, random_state=42, n_jobs=-1)"
   ]
  },
  {
   "cell_type": "code",
   "execution_count": 24,
   "metadata": {},
   "outputs": [],
   "source": [
    "# t0 = time()\n",
    "# val_cv_score = cross_val_score(clf, X_training_enc, y_training, cv=3, scoring='balanced_accuracy')\n",
    "# val_cv_score = np.array([round(item, 5) for item in val_cv_score])\n",
    "# print(f\"Cross-validation average score: {val_cv_score.mean():.3f}\")\n",
    "# # print(f\"Cross-validation finished in {time() - t0:.3f} sec.\")\n",
    "# t0 = time()\n",
    "# clf.fit(X_train_enc, y_train)\n",
    "# print(f\"Training finished in {time() - t0:.3f} sec.\")\n",
    "# t0 = time()\n",
    "# y_pred = clf.predict(X_valid_enc)\n",
    "# val_score = balanced_accuracy_score(y_valid, y_pred)\n",
    "# print(f\"Balanced accuracy score: {val_score:.3f}\")\n",
    "# print(f\"Validation finished in {time() - t0:.1f} sec.\")"
   ]
  },
  {
   "cell_type": "code",
   "execution_count": 25,
   "metadata": {},
   "outputs": [],
   "source": [
    "# val_score = accuracy_score(y_valid, y_pred)\n",
    "# print(f\"Accuracy score: {val_score:.3f}\")"
   ]
  },
  {
   "cell_type": "markdown",
   "metadata": {},
   "source": [
    "The result at whole dataset\n",
    "Cross-validation average score: 0.885\n",
    "Training finished in 50.317 sec.\n",
    "Balanced accuracy score: 0.910\n",
    "Validation finished in 28.6 sec.\n",
    "Accuracy score: 0.960"
   ]
  },
  {
   "cell_type": "code",
   "execution_count": 26,
   "metadata": {},
   "outputs": [],
   "source": [
    "def find_top_3(X_valid):\n",
    "    \"\"\" Define top 3 classes for each outlet without an answer \"\"\"\n",
    "    y_pred_proba = clf.predict_proba(X_valid)\n",
    "    proba = pd.DataFrame(data=y_pred_proba, columns=clf.classes_)\n",
    "    print(f\"proba.shape {proba.shape}\")\n",
    "\n",
    "    def get_max_3_classes(row):\n",
    "        \"\"\" Get n-classes array and return TOP 3 classes with maximal probability \"\"\"\n",
    "        ser = pd.Series(data=row.values, index=clf.classes_)\n",
    "        ser.sort_values(inplace=True, ascending=False)\n",
    "        return ser[0:3].index[0],ser[0:3].values[0], \\\n",
    "            ser[0:3].index[1],ser[0:3].values[1], \\\n",
    "            ser[0:3].index[2],ser[0:3].values[2]\n",
    "\n",
    "    proba['top_1_class'], proba['top_1_proba'], \\\n",
    "        proba['top_2_class'], proba['top_2_proba'], \\\n",
    "        proba['top_3_class'], proba['top_3_proba'] = zip(*proba.apply(get_max_3_classes, axis=1))\n",
    "    # inversion is needed\n",
    "    proba['top_1_class'] = label_encoder_y.inverse_transform(proba['top_1_class'].values.ravel())\n",
    "    proba['top_2_class'] = label_encoder_y.inverse_transform(proba['top_2_class'].values.ravel())\n",
    "    proba['top_3_class'] = label_encoder_y.inverse_transform(proba['top_3_class'].values.ravel())\n",
    "    # Preserve only new columns with TOP-3 classes\n",
    "    proba = proba.loc[:,'top_1_class':]\n",
    "    return proba"
   ]
  },
  {
   "cell_type": "code",
   "execution_count": 27,
   "metadata": {},
   "outputs": [],
   "source": [
    "def get_statistics(X_valid, y_valid):\n",
    "    \"\"\" Print statistics \"\"\"\n",
    "#     print(f\"{model_description} statistics\")\n",
    "    proba = find_top_3(X_valid)\n",
    "    # y_valid is encoded, inversion is needed\n",
    "    proba['y_valid'] = label_encoder_y.inverse_transform(y_valid)\n",
    "    proba['correct_1'] = proba.apply(lambda x: int(x.top_1_class==x.y_valid),axis=1)\n",
    "    proba['correct_2'] = proba.apply(lambda x: int(x.top_2_class==x.y_valid),axis=1)\n",
    "    proba['correct_3'] = proba.apply(lambda x: int(x.top_3_class==x.y_valid),axis=1)\n",
    "    # Total predictions\n",
    "    total = proba.shape[0]\n",
    "    # Number of correct predictions by class\n",
    "    corr_cl1 = proba[proba.top_1_class==proba.y_valid].shape[0]\n",
    "    corr_cl2 = proba[proba.top_2_class==proba.y_valid].shape[0]\n",
    "    corr_cl3 = proba[proba.top_3_class==proba.y_valid].shape[0]\n",
    "    not_correct = total - (corr_cl1 + corr_cl2 + corr_cl3)\n",
    "    print(f\"\"\"\n",
    "    Total predictions: {total}\n",
    "    Correct: {corr_cl1 / total * 100:.1f}% ({corr_cl1})\n",
    "    Predicted in the 2nd option: {corr_cl2 / total * 100:.2f}% ({corr_cl2})\n",
    "    Predicted in the 3rd option: {corr_cl3 / total * 100:.3f}% ({corr_cl3})\n",
    "    Not predicted at all {not_correct / total * 100:.3f}% ({not_correct})\n",
    "    \"\"\")\n",
    "    \n",
    "    def get_proba_info(class_num, proba_from, proba_to):\n",
    "        \"\"\" Get class and return a number of correct, incorrect predictions in interval \"\"\"\n",
    "        correct_num = proba[(proba[class_num+'_class']==proba.y_valid)& \\\n",
    "            (proba[class_num+'_proba']>proba_from)&(proba[class_num+'_proba']<=proba_to)].shape[0]\n",
    "        incorrect_num = proba[(proba[class_num+'_class']!=proba.y_valid)& \\\n",
    "            (proba[class_num+'_proba']>proba_from)&(proba[class_num+'_proba']<=proba_to)].shape[0]\n",
    "        return correct_num, incorrect_num, (proba_from, proba_to)\n",
    "\n",
    "    correct, incorrect, index = [], [], []\n",
    "    for edge in range(20,100,10):\n",
    "        cor, inc, ind = get_proba_info('top_1',edge/100,(edge+10)/100)\n",
    "        correct.append(cor)\n",
    "        incorrect.append(inc)\n",
    "        index.append(ind)\n",
    "\n",
    "    # Print out ratio of wrong and right predictions in each interval            \n",
    "    a = pd.DataFrame(data={'correct':correct[::-1], 'incorrect':incorrect[::-1]}, index=index[::-1])\n",
    "    top = 1\n",
    "    rep_list = []\n",
    "    rep_list.append(f\"\\n{'Interval':>12} {'Right':>8} {'Wrong':>10} {'Wrn./Tot.':>11}\\n\")\n",
    "    for i in range(len(a)):\n",
    "        mid = a.index[i][0]\n",
    "        s = f\"{str(a.index[i]):>12} {a.correct[i]:>8} {a.incorrect[i]:>10}\"\n",
    "        if i==0:\n",
    "            v = a.incorrect[i] / (a.incorrect[i] + a.correct[i]) * 100\n",
    "        else:\n",
    "            v = a.incorrect[:i+1].sum() / (a.incorrect[:i+1].sum() + a.correct[:i+1].sum()) * 100\n",
    "        rep_list.append(\"{0} {1:>10.2f} | interval ({2}, {3}] wrong / total = {4:.2f}%\\n\" \\\n",
    "                .format(s,\n",
    "                    a.incorrect[i] / (a.incorrect[i] + a.correct[i]) * 100 if (a.incorrect[i] + a.correct[i]) > 0 else 0,\n",
    "                    mid, top, v))\n",
    "    print(''.join(rep_list))\n",
    "    \n",
    "    return proba"
   ]
  },
  {
   "cell_type": "code",
   "execution_count": 28,
   "metadata": {},
   "outputs": [],
   "source": [
    "def validate():\n",
    "    \"\"\" Training, Validation, Cross-Validation \"\"\"\n",
    "#     print(f\"{model_description} validation\")\n",
    "    t0 = time()\n",
    "    # Cross-Validation goes on full training dataset\n",
    "    val_cv_score = cross_val_score(clf, X_training_enc, y_training_enc, cv=3, scoring='balanced_accuracy')\n",
    "    val_cv_score = np.array([round(item, 5) for item in val_cv_score])\n",
    "    print(f\"Cross-validation average score: {val_cv_score.mean():.3f}\")\n",
    "    print(f\"Cross-validation finished in {time() - t0:.3f} sec.\")\n",
    "    t0 = time()\n",
    "    clf.fit(X_train_enc, y_train_enc)\n",
    "    print(f\"Training finished in {time() - t0:.3f} sec.\")\n",
    "    t0 = time()\n",
    "    y_pred = clf.predict(X_valid_enc)\n",
    "    val_score = balanced_accuracy_score(y_valid_enc, y_pred)\n",
    "    print(f\"Balanced accuracy score: {val_score:.3f}\")\n",
    "    print(f\"Validation finished in {time() - t0:.1f} sec.\")\n",
    "    # print statistics\n",
    "    proba = get_statistics(X_valid_enc, y_valid_enc)\n",
    "    \n",
    "    return proba"
   ]
  },
  {
   "cell_type": "code",
   "execution_count": 29,
   "metadata": {},
   "outputs": [],
   "source": [
    "def fit():\n",
    "    \"\"\" Training on full data set \"\"\"\n",
    "#     print(f\"Final training {model_description}...\")\n",
    "    # get_encoded()\n",
    "    t0 = time()\n",
    "    clf.fit(X_training_enc, y_training_enc)\n",
    "    print(f\"Final training finished in {time() - t0:.3f} sec.\")\n",
    "    proba = find_top_3(X_preds_enc)\n",
    "\n",
    "    return proba"
   ]
  },
  {
   "cell_type": "code",
   "execution_count": 30,
   "metadata": {},
   "outputs": [
    {
     "name": "stdout",
     "output_type": "stream",
     "text": [
      "Cross-validation average score: 0.920\n",
      "Cross-validation finished in 132.165 sec.\n",
      "Training finished in 30.960 sec.\n",
      "Balanced accuracy score: 0.941\n",
      "Validation finished in 12.5 sec.\n",
      "proba.shape (89589, 233)\n",
      "\n",
      "    Total predictions: 89589\n",
      "    Correct: 97.1% (87000)\n",
      "    Predicted in the 2nd option: 2.19% (1961)\n",
      "    Predicted in the 3rd option: 0.304% (272)\n",
      "    Not predicted at all 0.397% (356)\n",
      "    \n",
      "\n",
      "    Interval    Right      Wrong   Wrn./Tot.\n",
      "  (0.9, 1.0)    75040        381       0.51 | interval (0.9, 1] wrong / total = 0.51%\n",
      "  (0.8, 0.9)     5845        280       4.57 | interval (0.8, 1] wrong / total = 0.81%\n",
      "  (0.7, 0.8)     2726        352      11.44 | interval (0.7, 1] wrong / total = 1.20%\n",
      "  (0.6, 0.7)     1671        467      21.84 | interval (0.6, 1] wrong / total = 1.71%\n",
      "  (0.5, 0.6)     1107        571      34.03 | interval (0.5, 1] wrong / total = 2.32%\n",
      "  (0.4, 0.5)      460        329      41.70 | interval (0.4, 1] wrong / total = 2.67%\n",
      "  (0.3, 0.4)      123        150      54.95 | interval (0.3, 1] wrong / total = 2.83%\n",
      "  (0.2, 0.3)       25         52      67.53 | interval (0.2, 1] wrong / total = 2.88%\n",
      "\n"
     ]
    }
   ],
   "source": [
    "# Validation\n",
    "proba_valid = validate()"
   ]
  },
  {
   "cell_type": "code",
   "execution_count": 31,
   "metadata": {},
   "outputs": [],
   "source": [
    "# Save result for analyse\n",
    "X_valids = X_valid.copy()\n",
    "X_valids.reset_index(inplace=True)\n",
    "df_valids = pd.concat([X_valids['SWE_Store_Key'], proba_valid], axis=1,join='inner')\n",
    "\n",
    "with pd.ExcelWriter(r'data_output3\\valid_part.xlsx') as writer: # pylint: disable=abstract-class-instantiated\n",
    "    df_valids.to_excel(writer, sheet_name='Sheet1', index=False)"
   ]
  },
  {
   "cell_type": "markdown",
   "metadata": {},
   "source": [
    "# Final predictions"
   ]
  },
  {
   "cell_type": "code",
   "execution_count": 32,
   "metadata": {},
   "outputs": [
    {
     "name": "stdout",
     "output_type": "stream",
     "text": [
      "Final training finished in 37.357 sec.\n",
      "proba.shape (21333, 233)\n"
     ]
    }
   ],
   "source": [
    "proba_preds = fit()"
   ]
  },
  {
   "cell_type": "code",
   "execution_count": 33,
   "metadata": {},
   "outputs": [],
   "source": [
    "# Save result\n",
    "X_preds = preds.iloc[:,:-1]\n",
    "X_preds.reset_index(inplace=True)\n",
    "# X_preds\n",
    "df_preds = pd.concat([X_preds['SWE_Store_Key'], proba_preds], axis=1,join='inner')\n",
    "with pd.ExcelWriter(r'data_output3\\pred_part.xlsx') as writer: # pylint: disable=abstract-class-instantiated\n",
    "    df_preds.to_excel(writer, sheet_name='Sheet1', index=False)"
   ]
  },
  {
   "cell_type": "code",
   "execution_count": null,
   "metadata": {},
   "outputs": [],
   "source": []
  },
  {
   "cell_type": "code",
   "execution_count": null,
   "metadata": {},
   "outputs": [],
   "source": []
  }
 ],
 "metadata": {
  "kernelspec": {
   "display_name": "Python 3",
   "language": "python",
   "name": "python3"
  },
  "language_info": {
   "codemirror_mode": {
    "name": "ipython",
    "version": 3
   },
   "file_extension": ".py",
   "mimetype": "text/x-python",
   "name": "python",
   "nbconvert_exporter": "python",
   "pygments_lexer": "ipython3",
   "version": "3.7.6"
  },
  "toc": {
   "base_numbering": 1,
   "nav_menu": {},
   "number_sections": true,
   "sideBar": true,
   "skip_h1_title": false,
   "title_cell": "Table of Contents",
   "title_sidebar": "Contents",
   "toc_cell": false,
   "toc_position": {},
   "toc_section_display": true,
   "toc_window_display": false
  }
 },
 "nbformat": 4,
 "nbformat_minor": 4
}
